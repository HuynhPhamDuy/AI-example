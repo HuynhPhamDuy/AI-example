{
 "cells": [
  {
   "cell_type": "code",
   "execution_count": 1,
   "metadata": {},
   "outputs": [
    {
     "name": "stderr",
     "output_type": "stream",
     "text": [
      "Using TensorFlow backend.\n"
     ]
    }
   ],
   "source": [
    "import keras\n",
    "from keras.datasets import cifar10\n",
    "from keras.preprocessing.image import ImageDataGenerator\n",
    "from keras.models import Sequential\n",
    "from keras.layers import Dense, Dropout, Activation, Flatten\n",
    "from keras.layers import Conv2D, MaxPooling2D\n",
    "import numpy as np\n",
    "\n",
    "import os\n",
    "import wandb\n",
    "from wandb.keras import WandbCallback\n",
    "from PIL import Image\n",
    "from matplotlib import pyplot as plt"
   ]
  },
  {
   "cell_type": "code",
   "execution_count": 2,
   "metadata": {},
   "outputs": [
    {
     "name": "stdout",
     "output_type": "stream",
     "text": [
      "W&B Run: https://app.wandb.ai/qualcomm/Distillation/runs/lx9bmpjk\n",
      "Call `%%wandb` in the cell containing your training loop to display live results.\n"
     ]
    }
   ],
   "source": [
    "run = wandb.init(project=\"Distillation\",tensorboard=True)\n",
    "config = run.config\n",
    "config.dropout = 0.25\n",
    "config.dense_layer_nodes = 100\n",
    "config.learn_rate = 0.32  #0.01 \n",
    "config.batch_size = 1024  #32\n",
    "config.epochs = 50"
   ]
  },
  {
   "cell_type": "code",
   "execution_count": 3,
   "metadata": {},
   "outputs": [],
   "source": [
    "class_names = ['airplane','automobile','bird','cat','deer',\n",
    "               'dog','frog','horse','ship','truck']\n",
    "num_classes = len(class_names)\n",
    "\n",
    "(X_train, y_train_original_label), (X_test, y_test) = cifar10.load_data()\n",
    "\n",
    "# Convert class vectors to binary class matrices.\n",
    "y_train_original_label = keras.utils.to_categorical(y_train_original_label, num_classes)\n",
    "y_test = keras.utils.to_categorical(y_test, num_classes)\n",
    "\n",
    "# Normalize values into [0 to 1] because all default assume zero to one\n",
    "# We won't bother to fully sphere the data, removing median and divide by variance\n",
    "X_train = X_train.astype('float32') / 255.\n",
    "X_test = X_test.astype('float32') / 255."
   ]
  },
  {
   "cell_type": "code",
   "execution_count": 4,
   "metadata": {},
   "outputs": [],
   "source": [
    "y_train_softmax_output = np.load(\"y_train_softmax_output.npy\")"
   ]
  },
  {
   "cell_type": "code",
   "execution_count": 5,
   "metadata": {},
   "outputs": [],
   "source": [
    "# Define Emulation Model\n",
    "# Note: We can set some of these at variables to reduce capacity \n",
    "model = Sequential() # Sets up model structure to pass data forward \n",
    "model.add(Conv2D(32, # Activation layers \n",
    "                 (3, 3), # Conv dim\n",
    "                 padding='same', # Use padding to maintain same dims\n",
    "                 input_shape=X_train.shape[1:], activation='relu'))\n",
    "model.add(MaxPooling2D(pool_size=(2, 2))) # 16x16 dim per activation\n",
    "model.add(Dropout(config.dropout)) # Add a dash of regularization (too taste)\n",
    "\n",
    "# NOTE: Would be fun to try a 16x16xActivation conv to a 1x1x10 tensor\n",
    "model.add(Flatten()) # Because dense layers like 1D vectors \n",
    "model.add(Dense(config.dense_layer_nodes, activation='relu'))\n",
    "model.add(Dropout(config.dropout)) # A pinch more regularization \n",
    "model.add(Dense(num_classes, activation='softmax')) # Plate and serve\n",
    "\n",
    "# NOTE: Could also try Adam at some point\n",
    "opt = keras.optimizers.SGD(lr=config.learn_rate) # No momentum \n",
    "\n",
    "model.compile(loss='categorical_crossentropy', # Because one hot encoding\n",
    "              optimizer=opt, # Per previous decision to not use momentum\n",
    "              metrics=['accuracy']) # Easier to look at than cross entropy"
   ]
  },
  {
   "cell_type": "code",
   "execution_count": 6,
   "metadata": {},
   "outputs": [
    {
     "data": {
      "image/png": "[encoded data removed]",
      "text/plain": [
       "<Figure size 432x288 with 1 Axes>"
      ]
     },
     "metadata": {
      "needs_background": "light"
     },
     "output_type": "display_data"
    }
   ],
   "source": [
    "data = X_train[0]\n",
    "from matplotlib import pyplot as plt\n",
    "plt.imshow(data, interpolation='nearest')\n",
    "plt.show()"
   ]
  },
  {
   "cell_type": "code",
   "execution_count": 10,
   "metadata": {},
   "outputs": [
    {
     "name": "stdout",
     "output_type": "stream",
     "text": [
      "['airplane', 'automobile', 'bird', 'cat', 'deer', 'dog', 'frog', 'horse', 'ship', 'truck']\n"
     ]
    },
    {
     "data": {
      "text/plain": [
       "array([0.04264229, 0.00540979, 0.07433245, 0.20201543, 0.07983524,\n",
       "       0.23577349, 0.24125147, 0.11060702, 0.00521307, 0.00291974],\n",
       "      dtype=float32)"
      ]
     },
     "execution_count": 10,
     "metadata": {},
     "output_type": "execute_result"
    }
   ],
   "source": [
    "model2 = keras.models.load_model(\"lukas.h5\")\n",
    "y_train_softmax_output = model2.predict(X_train)\n",
    "print(class_names)\n",
    "y_train_softmax_output[0]"
   ]
  },
  {
   "cell_type": "code",
   "execution_count": 6,
   "metadata": {},
   "outputs": [
    {
     "name": "stderr",
     "output_type": "stream",
     "text": [
      "wandb: Wandb version 0.7.2 is available!  To upgrade, please run:\n",
      "wandb:  $ pip install wandb --upgrade\n"
     ]
    },
    {
     "name": "stdout",
     "output_type": "stream",
     "text": [
      "Train on 50000 samples, validate on 10000 samples\n",
      "Epoch 1/50\n",
      "50000/50000 [==============================] - 5s 110us/step - loss: 2.2905 - acc: 0.5324 - val_loss: 2.3056 - val_acc: 0.1059\n",
      "Epoch 2/50\n",
      "50000/50000 [==============================] - 3s 56us/step - loss: 2.2870 - acc: 0.6352 - val_loss: 2.3029 - val_acc: 0.1084\n",
      "Epoch 3/50\n",
      "50000/50000 [==============================] - 3s 55us/step - loss: 2.2866 - acc: 0.6830 - val_loss: 2.3013 - val_acc: 0.1092\n",
      "Epoch 4/50\n",
      "50000/50000 [==============================] - 3s 56us/step - loss: 2.2863 - acc: 0.7110 - val_loss: 2.3005 - val_acc: 0.1097\n",
      "Epoch 5/50\n",
      "50000/50000 [==============================] - 3s 57us/step - loss: 2.2862 - acc: 0.7287 - val_loss: 2.2999 - val_acc: 0.1094\n",
      "Epoch 6/50\n",
      "50000/50000 [==============================] - 3s 57us/step - loss: 2.2861 - acc: 0.7406 - val_loss: 2.2992 - val_acc: 0.1090\n",
      "Epoch 7/50\n",
      "50000/50000 [==============================] - 3s 56us/step - loss: 2.2860 - acc: 0.7520 - val_loss: 2.2989 - val_acc: 0.1088\n",
      "Epoch 8/50\n",
      "50000/50000 [==============================] - 3s 56us/step - loss: 2.2860 - acc: 0.7593 - val_loss: 2.2986 - val_acc: 0.1095\n",
      "Epoch 9/50\n",
      "50000/50000 [==============================] - 3s 57us/step - loss: 2.2860 - acc: 0.7659 - val_loss: 2.2985 - val_acc: 0.1093\n",
      "Epoch 10/50\n",
      "50000/50000 [==============================] - 3s 57us/step - loss: 2.2859 - acc: 0.7703 - val_loss: 2.2983 - val_acc: 0.1091\n",
      "Epoch 11/50\n",
      "50000/50000 [==============================] - 3s 56us/step - loss: 2.2859 - acc: 0.7766 - val_loss: 2.2979 - val_acc: 0.1090\n",
      "Epoch 12/50\n",
      "50000/50000 [==============================] - 3s 56us/step - loss: 2.2859 - acc: 0.7800 - val_loss: 2.2978 - val_acc: 0.1090\n",
      "Epoch 13/50\n",
      "50000/50000 [==============================] - 3s 57us/step - loss: 2.2859 - acc: 0.7828 - val_loss: 2.2975 - val_acc: 0.1086\n",
      "Epoch 14/50\n",
      "50000/50000 [==============================] - 3s 57us/step - loss: 2.2858 - acc: 0.7853 - val_loss: 2.2975 - val_acc: 0.1093\n",
      "Epoch 15/50\n",
      "50000/50000 [==============================] - 3s 56us/step - loss: 2.2859 - acc: 0.7903 - val_loss: 2.2971 - val_acc: 0.1093\n",
      "Epoch 16/50\n",
      "50000/50000 [==============================] - 3s 57us/step - loss: 2.2859 - acc: 0.7911 - val_loss: 2.2972 - val_acc: 0.1101\n",
      "Epoch 17/50\n",
      "50000/50000 [==============================] - 3s 57us/step - loss: 2.2858 - acc: 0.7955 - val_loss: 2.2969 - val_acc: 0.1101\n",
      "Epoch 18/50\n",
      "50000/50000 [==============================] - 3s 60us/step - loss: 2.2859 - acc: 0.7956 - val_loss: 2.2969 - val_acc: 0.1108\n",
      "Epoch 19/50\n",
      "50000/50000 [==============================] - 3s 57us/step - loss: 2.2858 - acc: 0.7963 - val_loss: 2.2966 - val_acc: 0.1104\n",
      "Epoch 20/50\n",
      "50000/50000 [==============================] - 3s 56us/step - loss: 2.2858 - acc: 0.7982 - val_loss: 2.2968 - val_acc: 0.1115\n",
      "Epoch 21/50\n",
      "50000/50000 [==============================] - 3s 56us/step - loss: 2.2858 - acc: 0.7999 - val_loss: 2.2964 - val_acc: 0.1114\n",
      "Epoch 22/50\n",
      "50000/50000 [==============================] - 3s 57us/step - loss: 2.2858 - acc: 0.8020 - val_loss: 2.2968 - val_acc: 0.1116\n",
      "Epoch 23/50\n",
      "50000/50000 [==============================] - 3s 56us/step - loss: 2.2858 - acc: 0.8034 - val_loss: 2.2962 - val_acc: 0.1117\n",
      "Epoch 24/50\n",
      "50000/50000 [==============================] - 3s 56us/step - loss: 2.2858 - acc: 0.8043 - val_loss: 2.2964 - val_acc: 0.1119\n",
      "Epoch 25/50\n",
      "50000/50000 [==============================] - 3s 56us/step - loss: 2.2857 - acc: 0.8070 - val_loss: 2.2959 - val_acc: 0.1119\n",
      "Epoch 26/50\n",
      "50000/50000 [==============================] - 3s 55us/step - loss: 2.2857 - acc: 0.8085 - val_loss: 2.2961 - val_acc: 0.1119\n",
      "Epoch 27/50\n",
      "50000/50000 [==============================] - 3s 57us/step - loss: 2.2858 - acc: 0.8083 - val_loss: 2.2958 - val_acc: 0.1119\n",
      "Epoch 28/50\n",
      "50000/50000 [==============================] - 3s 56us/step - loss: 2.2857 - acc: 0.8126 - val_loss: 2.2960 - val_acc: 0.1122\n",
      "Epoch 29/50\n",
      "50000/50000 [==============================] - 3s 56us/step - loss: 2.2857 - acc: 0.8108 - val_loss: 2.2956 - val_acc: 0.1121\n",
      "Epoch 30/50\n",
      "50000/50000 [==============================] - 3s 57us/step - loss: 2.2857 - acc: 0.8133 - val_loss: 2.2959 - val_acc: 0.1135\n",
      "Epoch 31/50\n",
      "50000/50000 [==============================] - 3s 57us/step - loss: 2.2857 - acc: 0.8137 - val_loss: 2.2957 - val_acc: 0.1133\n",
      "Epoch 32/50\n",
      "50000/50000 [==============================] - 3s 59us/step - loss: 2.2857 - acc: 0.8174 - val_loss: 2.2953 - val_acc: 0.1131\n",
      "Epoch 33/50\n",
      "50000/50000 [==============================] - 3s 56us/step - loss: 2.2857 - acc: 0.8155 - val_loss: 2.2959 - val_acc: 0.1138\n",
      "Epoch 34/50\n",
      "50000/50000 [==============================] - 3s 57us/step - loss: 2.2856 - acc: 0.8169 - val_loss: 2.2954 - val_acc: 0.1134\n",
      "Epoch 35/50\n",
      "50000/50000 [==============================] - 3s 58us/step - loss: 2.2857 - acc: 0.8188 - val_loss: 2.2966 - val_acc: 0.1147\n",
      "Epoch 36/50\n",
      "50000/50000 [==============================] - 3s 63us/step - loss: 2.2857 - acc: 0.8187 - val_loss: 2.2949 - val_acc: 0.1137\n",
      "Epoch 37/50\n",
      "50000/50000 [==============================] - 3s 56us/step - loss: 2.2856 - acc: 0.8192 - val_loss: 2.2952 - val_acc: 0.1141\n",
      "Epoch 38/50\n",
      "50000/50000 [==============================] - 3s 55us/step - loss: 2.2856 - acc: 0.8213 - val_loss: 2.2947 - val_acc: 0.1141\n",
      "Epoch 39/50\n",
      "50000/50000 [==============================] - 3s 54us/step - loss: 2.2856 - acc: 0.8216 - val_loss: 2.2951 - val_acc: 0.1146\n",
      "Epoch 40/50\n",
      "50000/50000 [==============================] - 3s 56us/step - loss: 2.2856 - acc: 0.8209 - val_loss: 2.2946 - val_acc: 0.1146\n",
      "Epoch 41/50\n",
      "50000/50000 [==============================] - 3s 56us/step - loss: 2.2856 - acc: 0.8228 - val_loss: 2.2953 - val_acc: 0.1153\n",
      "Epoch 42/50\n",
      "50000/50000 [==============================] - 3s 56us/step - loss: 2.2856 - acc: 0.8243 - val_loss: 2.2946 - val_acc: 0.1145\n",
      "Epoch 43/50\n",
      "50000/50000 [==============================] - 3s 54us/step - loss: 2.2856 - acc: 0.8233 - val_loss: 2.2955 - val_acc: 0.1155\n",
      "Epoch 44/50\n",
      "50000/50000 [==============================] - 3s 55us/step - loss: 2.2856 - acc: 0.8244 - val_loss: 2.2946 - val_acc: 0.1151\n",
      "Epoch 45/50\n",
      "50000/50000 [==============================] - 3s 56us/step - loss: 2.2856 - acc: 0.8246 - val_loss: 2.2944 - val_acc: 0.1148\n",
      "Epoch 46/50\n",
      "50000/50000 [==============================] - 3s 56us/step - loss: 2.2856 - acc: 0.8245 - val_loss: 2.2951 - val_acc: 0.1159\n",
      "Epoch 47/50\n",
      "50000/50000 [==============================] - 3s 55us/step - loss: 2.2855 - acc: 0.8262 - val_loss: 2.2946 - val_acc: 0.1155\n",
      "Epoch 48/50\n",
      "50000/50000 [==============================] - 3s 55us/step - loss: 2.2856 - acc: 0.8269 - val_loss: 2.2944 - val_acc: 0.1155\n",
      "Epoch 49/50\n",
      "50000/50000 [==============================] - 3s 55us/step - loss: 2.2856 - acc: 0.8283 - val_loss: 2.2945 - val_acc: 0.1159\n",
      "Epoch 50/50\n",
      "50000/50000 [==============================] - 3s 61us/step - loss: 2.2855 - acc: 0.8292 - val_loss: 2.2942 - val_acc: 0.1153\n"
     ]
    },
    {
     "data": {
      "text/plain": [
       "<keras.callbacks.History at 0x7f2be50fd4e0>"
      ]
     },
     "execution_count": 6,
     "metadata": {},
     "output_type": "execute_result"
    }
   ],
   "source": [
    "# Model \n",
    "# For batch size make sure it's big enough to leverage GPU parallelism \n",
    "#    As a basic rule you need to reduce learning rate as you reduce batch size\n",
    "# NOTE: Will be interesting to optimize for training time a bit by tweaking batch size\n",
    "model.fit(\n",
    "        X_train, \n",
    "        y_train_softmax_output,\n",
    "        batch_size=config.batch_size,\n",
    "        # Will use a fixed set of epochs rather than a stopping criteria \n",
    "        epochs=config.epochs,\n",
    "        validation_data=(X_test, y_test),\n",
    "        # Make sure we can see the pastries while they bake\n",
    "        callbacks=[WandbCallback(data_type=\"image\", labels=class_names)]\n",
    ")"
   ]
  },
  {
   "cell_type": "code",
   "execution_count": null,
   "metadata": {},
   "outputs": [],
   "source": []
  }
 ],
 "metadata": {
  "kernelspec": {
   "display_name": "Python 3",
   "language": "python",
   "name": "python3"
  },
  "language_info": {
   "codemirror_mode": {
    "name": "ipython",
    "version": 3
   },
   "file_extension": ".py",
   "mimetype": "text/x-python",
   "name": "python",
   "nbconvert_exporter": "python",
   "pygments_lexer": "ipython3",
   "version": "3.6.8"
  }
 },
 "nbformat": 4,
 "nbformat_minor": 2
}
